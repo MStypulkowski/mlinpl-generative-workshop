{
  "nbformat": 4,
  "nbformat_minor": 0,
  "metadata": {
    "kernelspec": {
      "display_name": "Python 3",
      "language": "python",
      "name": "python3"
    },
    "language_info": {
      "codemirror_mode": {
        "name": "ipython",
        "version": 3
      },
      "file_extension": ".py",
      "mimetype": "text/x-python",
      "name": "python",
      "nbconvert_exporter": "python",
      "pygments_lexer": "ipython3",
      "version": "3.6.9"
    },
    "latex_envs": {
      "LaTeX_envs_menu_present": true,
      "autoclose": false,
      "autocomplete": true,
      "bibliofile": "biblio.bib",
      "cite_by": "apalike",
      "current_citInitial": 1,
      "eqLabelWithNumbers": true,
      "eqNumInitial": 1,
      "hotkeys": {
        "equation": "Ctrl-E",
        "itemize": "Ctrl-I"
      },
      "labels_anchors": false,
      "latex_user_defs": false,
      "report_style_numbering": false,
      "user_envs_cfg": false
    },
    "toc": {
      "base_numbering": 1,
      "nav_menu": {},
      "number_sections": true,
      "sideBar": true,
      "skip_h1_title": false,
      "title_cell": "Table of Contents",
      "title_sidebar": "Contents",
      "toc_cell": false,
      "toc_position": {},
      "toc_section_display": true,
      "toc_window_display": false
    },
    "varInspector": {
      "cols": {
        "lenName": 16,
        "lenType": 16,
        "lenVar": 40
      },
      "kernels_config": {
        "python": {
          "delete_cmd_postfix": "",
          "delete_cmd_prefix": "del ",
          "library": "var_list.py",
          "varRefreshCmd": "print(var_dic_list())"
        },
        "r": {
          "delete_cmd_postfix": ") ",
          "delete_cmd_prefix": "rm(",
          "library": "var_list.r",
          "varRefreshCmd": "cat(var_dic_list()) "
        }
      },
      "types_to_exclude": [
        "module",
        "function",
        "builtin_function_or_method",
        "instance",
        "_Feature"
      ],
      "window_display": false
    },
    "colab": {
      "name": "CIF.ipynb",
      "provenance": [],
      "collapsed_sections": [],
      "toc_visible": true
    }
  },
  "cells": [
    {
      "cell_type": "code",
      "metadata": {
        "ExecuteTime": {
          "end_time": "2019-11-02T16:25:08.227211Z",
          "start_time": "2019-11-02T16:25:07.748883Z"
        },
        "id": "rbKM_dKvOtQZ",
        "colab_type": "code",
        "colab": {}
      },
      "source": [
        "import numpy as np\n",
        "import matplotlib.pyplot as plt\n",
        "from mpl_toolkits.mplot3d import Axes3D\n",
        "%matplotlib inline\n",
        "\n",
        "from os import listdir\n",
        "from os.path import isfile, isdir, join\n",
        "\n",
        "import torch\n",
        "from torch.utils.data import Dataset, DataLoader\n",
        "from torchvision import transforms, utils\n",
        "import torch.nn as nn\n",
        "import torch.nn.functional as F\n",
        "import torch.optim as optim\n",
        "from torch import distributions\n",
        "\n",
        "device = torch.device(\"cuda\" if torch.cuda.is_available() else \"cpu\")"
      ],
      "execution_count": null,
      "outputs": []
    },
    {
      "cell_type": "markdown",
      "metadata": {
        "id": "YjRcvQOsBItF",
        "colab_type": "text"
      },
      "source": [
        "# Utility functions"
      ]
    },
    {
      "cell_type": "code",
      "metadata": {
        "ExecuteTime": {
          "end_time": "2019-11-02T16:37:24.686230Z",
          "start_time": "2019-11-02T16:37:24.677481Z"
        },
        "id": "3NbTk_nUOtQe",
        "colab_type": "code",
        "colab": {}
      },
      "source": [
        "def plot_points(cloud, xlim=None, ylim=None, zlim=None, save_name=None, s=10, alpha=1):\n",
        "    '''\n",
        "    ploting point cloud\n",
        "    '''\n",
        "    fig = plt.figure(figsize=(10,10))\n",
        "    ax = fig.add_subplot(111, projection='3d')\n",
        "    ax.scatter(cloud[:,0], cloud[:,1], cloud[:,2], s=s, alpha=alpha)\n",
        "    if xlim:\n",
        "        ax.set_xlim([-xlim,xlim])\n",
        "    if ylim:\n",
        "        ax.set_ylim([-ylim,ylim])\n",
        "    if zlim:\n",
        "        ax.set_zlim([-zlim,zlim])\n",
        "    if save_name:\n",
        "        plt.savefig(r'Plots/' + save_name + '.png', bbox_inches='tight')\n",
        "    plt.show()"
      ],
      "execution_count": null,
      "outputs": []
    },
    {
      "cell_type": "code",
      "metadata": {
        "ExecuteTime": {
          "end_time": "2019-11-02T16:25:08.251738Z",
          "start_time": "2019-11-02T16:25:08.236935Z"
        },
        "id": "JS4s-al_OtQg",
        "colab_type": "code",
        "colab": {}
      },
      "source": [
        "class ShapeNet(Dataset):\n",
        "    def __init__(self, path, classes=['chair'], objects_ids=None, mixed=True):\n",
        "        shapenet = np.load(path)\n",
        "        self.objects_ids = objects_ids\n",
        "        self.cloud = []\n",
        "        self.targets = []\n",
        "        for _class in classes:\n",
        "            if objects_ids:\n",
        "                X = [shapenet[_class][idx] for idx in objects_ids]\n",
        "            else:\n",
        "                X = shapenet[_class]\n",
        "                \n",
        "            if mixed:        \n",
        "                for target, cloud in enumerate(X):\n",
        "                    self.cloud.extend(cloud)\n",
        "                    self.targets.extend([target] * len(cloud))\n",
        "\n",
        "                self.cloud = np.array(self.cloud).reshape(-1,3)\n",
        "            else:\n",
        "                self.cloud = X\n",
        "                self.targets = [i for i in range(len(X))]\n",
        "            \n",
        "            rotation_matrix = np.array([[0, -1, 0],\n",
        "                                       [1, 0, 0],\n",
        "                                       [0, 0, 1]])\n",
        "            \n",
        "            self.cloud = np.dot(self.cloud, rotation_matrix)\n",
        "            \n",
        "    def __len__(self):\n",
        "        return len(self.cloud)\n",
        "    \n",
        "    def __getitem__(self, idx):\n",
        "        point, target = self.cloud[idx], self.targets[idx]\n",
        "        point, target = torch.from_numpy(point), torch.tensor(target)\n",
        "        return point, target"
      ],
      "execution_count": null,
      "outputs": []
    },
    {
      "cell_type": "markdown",
      "metadata": {
        "id": "5dVVPaMLBTUU",
        "colab_type": "text"
      },
      "source": [
        "# Model implementation"
      ]
    },
    {
      "cell_type": "code",
      "metadata": {
        "ExecuteTime": {
          "end_time": "2019-11-02T16:25:08.269764Z",
          "start_time": "2019-11-02T16:25:08.253118Z"
        },
        "id": "YUcACNC_OtQi",
        "colab_type": "code",
        "colab": {}
      },
      "source": [
        "class F_MulNet(nn.Module):        \n",
        "    def __init__(self, emb_dim):\n",
        "        super(F_MulNet, self).__init__()\n",
        "        \n",
        "        self.layer0 = nn.Sequential(\n",
        "            nn.Linear(emb_dim, 256),\n",
        "            nn.LeakyReLU(0.1)\n",
        "        )   \n",
        "        \n",
        "        self.layer1 = nn.Sequential(\n",
        "            nn.Linear(2, 256),\n",
        "            nn.LeakyReLU(0.1)\n",
        "        )\n",
        "        \n",
        "        self.layer2 = nn.Sequential(\n",
        "            nn.Linear(512, 512),\n",
        "            nn.LeakyReLU(0.1)\n",
        "        )\n",
        "        \n",
        "        self.layer3 = nn.Sequential(\n",
        "            nn.Linear(512, 512),\n",
        "            nn.LeakyReLU(0.1)\n",
        "        )   \n",
        "            \n",
        "        self.layer4 = nn.Linear(512, 512)\n",
        "            \n",
        "        self.layer5 = nn.Sequential(\n",
        "            nn.Linear(512, 512),\n",
        "            nn.LeakyReLU(0.1)\n",
        "        )   \n",
        "            \n",
        "        self.layer6 = nn.Linear(512, 512)\n",
        "        \n",
        "        self.layer7 = nn.Sequential(\n",
        "            nn.Linear(512, 512),\n",
        "            nn.LeakyReLU(0.1)\n",
        "        )   \n",
        "            \n",
        "        self.layer8 = nn.Linear(512, 512)\n",
        "        \n",
        "        self.layer9 = nn.Sequential(\n",
        "            nn.Linear(512, 512),\n",
        "            nn.LeakyReLU(0.1)\n",
        "        )   \n",
        "            \n",
        "        self.layer10 = nn.Linear(512, 512)\n",
        "        \n",
        "        self.layer11 = nn.Sequential(\n",
        "            nn.Linear(512,1),\n",
        "            nn.Tanh()\n",
        "        )\n",
        "    \n",
        "    def forward(self, x, emb):\n",
        "        emb = self.layer0(emb)\n",
        "        x = self.layer1(x)\n",
        "        x = self.layer2(torch.cat([x,emb], dim=1))\n",
        "        \n",
        "        _x = x\n",
        "        x = self.layer3(x)\n",
        "        x = self.layer4(x)\n",
        "        x = F.leaky_relu(x + _x, negative_slope=0.1)\n",
        "        \n",
        "        _x = x\n",
        "        x = self.layer5(x)\n",
        "        x = self.layer6(x)\n",
        "        x = F.leaky_relu(x + _x, negative_slope=0.1)\n",
        "        \n",
        "        _x = x\n",
        "        x = self.layer7(x)\n",
        "        x = self.layer8(x)\n",
        "        x = F.leaky_relu(x + _x, negative_slope=0.1)\n",
        "        \n",
        "        _x = x\n",
        "        x = self.layer9(x)\n",
        "        x = self.layer10(x)\n",
        "        x = F.leaky_relu(x + _x, negative_slope=0.1)\n",
        "        \n",
        "        x = self.layer11(x)\n",
        "        \n",
        "        return x"
      ],
      "execution_count": null,
      "outputs": []
    },
    {
      "cell_type": "code",
      "metadata": {
        "ExecuteTime": {
          "end_time": "2019-11-02T16:25:08.282207Z",
          "start_time": "2019-11-02T16:25:08.270953Z"
        },
        "code_folding": [],
        "id": "O6_Y7nf7OtQk",
        "colab_type": "code",
        "colab": {}
      },
      "source": [
        "class F_AddNet(nn.Module):\n",
        "    def __init__(self, emb_dim):\n",
        "        super(F_AddNet, self).__init__()\n",
        "        \n",
        "        self.layer0 = self.layer1 = nn.Sequential(\n",
        "            nn.Linear(emb_dim, 256),\n",
        "            nn.LeakyReLU(0.1)\n",
        "        )   \n",
        "        \n",
        "        self.layer1 = nn.Sequential(\n",
        "            nn.Linear(2, 256),\n",
        "            nn.LeakyReLU(0.1)\n",
        "        )\n",
        "        \n",
        "        self.layer2 = nn.Sequential(\n",
        "            nn.Linear(512, 512),\n",
        "            nn.LeakyReLU(0.1)\n",
        "        )\n",
        "        \n",
        "        self.layer3 = nn.Sequential(\n",
        "            nn.Linear(512, 512),\n",
        "            nn.LeakyReLU(0.1)\n",
        "        )   \n",
        "            \n",
        "        self.layer4 = nn.Linear(512, 512)\n",
        "            \n",
        "        self.layer5 = nn.Sequential(\n",
        "            nn.Linear(512, 512),\n",
        "            nn.LeakyReLU(0.1)\n",
        "        )   \n",
        "            \n",
        "        self.layer6 = nn.Linear(512, 512)\n",
        "        \n",
        "        self.layer7 = nn.Sequential(\n",
        "            nn.Linear(512, 512),\n",
        "            nn.LeakyReLU(0.1)\n",
        "        )   \n",
        "            \n",
        "        self.layer8 = nn.Linear(512, 512)\n",
        "        \n",
        "        self.layer9 = nn.Sequential(\n",
        "            nn.Linear(512, 512),\n",
        "            nn.LeakyReLU(0.1)\n",
        "        )   \n",
        "            \n",
        "        self.layer10 = nn.Linear(512, 512)\n",
        "        \n",
        "        self.layer11 = nn.Sequential(\n",
        "            nn.Linear(512,1)\n",
        "        )\n",
        "    \n",
        "    def forward(self, x, emb):\n",
        "        emb = self.layer0(emb)\n",
        "        x = self.layer1(x)\n",
        "        x = self.layer2(torch.cat([x,emb], dim=1))\n",
        "        \n",
        "        _x = x\n",
        "        x = self.layer3(x)\n",
        "        x = self.layer4(x)\n",
        "        x = F.leaky_relu(x + _x, negative_slope=0.1)\n",
        "        \n",
        "        _x = x\n",
        "        x = self.layer5(x)\n",
        "        x = self.layer6(x)\n",
        "        x = F.leaky_relu(x + _x, negative_slope=0.1)\n",
        "        \n",
        "        _x = x\n",
        "        x = self.layer7(x)\n",
        "        x = self.layer8(x)\n",
        "        x = F.leaky_relu(x + _x, negative_slope=0.1)\n",
        "        \n",
        "        _x = x\n",
        "        x = self.layer9(x)\n",
        "        x = self.layer10(x)\n",
        "        x = F.leaky_relu(x + _x, negative_slope=0.1)\n",
        "        \n",
        "        x = self.layer11(x)\n",
        "        \n",
        "        return x"
      ],
      "execution_count": null,
      "outputs": []
    },
    {
      "cell_type": "code",
      "metadata": {
        "ExecuteTime": {
          "end_time": "2019-11-02T16:25:08.289724Z",
          "start_time": "2019-11-02T16:25:08.283381Z"
        },
        "id": "vqEXdOxuOtQm",
        "colab_type": "code",
        "colab": {}
      },
      "source": [
        "def init_weights(Layer):\n",
        "    name = Layer.__class__.__name__\n",
        "    if name == 'Linear':\n",
        "        torch.nn.init.normal_(Layer.weight, mean=0, std=0.02)\n",
        "        if Layer.bias is not None:\n",
        "            torch.nn.init.constant_(Layer.bias, 0)"
      ],
      "execution_count": null,
      "outputs": []
    },
    {
      "cell_type": "code",
      "metadata": {
        "ExecuteTime": {
          "end_time": "2019-11-02T16:25:08.298492Z",
          "start_time": "2019-11-02T16:25:08.291274Z"
        },
        "id": "WlXK8SnsOtQn",
        "colab_type": "code",
        "colab": {}
      },
      "source": [
        "def optim(F_flows, l_rate):\n",
        "    params = []\n",
        "    for key in F_flows:\n",
        "        params += list(F_flows[key].parameters())\n",
        "        \n",
        "    optimizer = torch.optim.Adam(params, lr=l_rate)\n",
        "    return optimizer"
      ],
      "execution_count": null,
      "outputs": []
    },
    {
      "cell_type": "code",
      "metadata": {
        "ExecuteTime": {
          "end_time": "2019-11-02T16:25:08.305226Z",
          "start_time": "2019-11-02T16:25:08.301152Z"
        },
        "id": "TXo-TxgPOtQp",
        "colab_type": "code",
        "colab": {}
      },
      "source": [
        "def loss_fun(z, logdetJ, prior_z):\n",
        "    ll_z = prior_z.log_prob(z.cpu()).to(device) + logdetJ\n",
        "    return -torch.mean(ll_z)"
      ],
      "execution_count": null,
      "outputs": []
    },
    {
      "cell_type": "markdown",
      "metadata": {
        "id": "1eB4riWGO-4Y",
        "colab_type": "text"
      },
      "source": [
        "Implement transformations of the CIF model here. You will need to fill the body of 2 functions: \n",
        "* `F_flow` - forward pass of the CIF\n",
        "$$\\begin{cases}\n",
        "y_1 =& x_1\\\\ \n",
        "y_2 =& x_2 \\odot \\exp (s(x_1, e)) + t(x_1, e)\n",
        "\\end{cases}$$\n",
        "* `F_inv_flow` - inversion of the forward pass\n",
        "$$\\begin{cases}\n",
        "x_1 =& y_1\\\\ \n",
        "x_2 =& (y_2 - t(y_1, e)) \\odot \\exp (-s(y_1, e))\n",
        "\\end{cases}$$\n",
        "Don't use masks. Instead, split dimensions, perform operations and concatenate results in proper way. \\\\\n",
        "Hint: use `torch.cat()`."
      ]
    },
    {
      "cell_type": "code",
      "metadata": {
        "ExecuteTime": {
          "end_time": "2019-11-02T16:25:08.314046Z",
          "start_time": "2019-11-02T16:25:08.306870Z"
        },
        "id": "VccgtVFOOtQr",
        "colab_type": "code",
        "colab": {}
      },
      "source": [
        "def F_flow(x, emb, F_flows, n_flows_F):\n",
        "    ldetJ = 0\n",
        "    for n in range(n_flows_F):\n",
        "        for k in range(3):\n",
        "            h1, h2 = x[:,:2], x[:,2,None]\n",
        "            M = F_flows['MNet' + str(n) + str(k)](h1, emb)\n",
        "            A = F_flows['ANet' + str(n) + str(k)](h1, emb)\n",
        "            h2 = h2 * torch.exp(M) + A\n",
        "            ldetJ += torch.sum(M, dim=1).view(-1,1)\n",
        "            x = torch.cat([h2, h1], dim=1)\n",
        "    return x, ldetJ"
      ],
      "execution_count": null,
      "outputs": []
    },
    {
      "cell_type": "code",
      "metadata": {
        "ExecuteTime": {
          "end_time": "2019-11-02T16:25:08.319957Z",
          "start_time": "2019-11-02T16:25:08.315450Z"
        },
        "id": "w48pzAXLOtQt",
        "colab_type": "code",
        "colab": {}
      },
      "source": [
        "def F_inv_flow(z, emb, F_flows, n_flows_F):\n",
        "    for n in range(n_flows_F-1, -1, -1):\n",
        "        for k in range(2, -1, -1):\n",
        "            h1, h2 = z[:,1:], z[:,0,None]\n",
        "            M_inv = torch.exp(-F_flows['MNet' + str(n) + str(k)](h1, emb))\n",
        "            A = F_flows['ANet' + str(n) + str(k)](h1, emb)\n",
        "            h2 = (h2 - A) * M_inv\n",
        "            z = torch.cat([h1, h2], dim=1)\n",
        "    return z"
      ],
      "execution_count": null,
      "outputs": []
    },
    {
      "cell_type": "markdown",
      "metadata": {
        "id": "yXChpXbrOtQv",
        "colab_type": "text"
      },
      "source": [
        "# Experiments"
      ]
    },
    {
      "cell_type": "code",
      "metadata": {
        "ExecuteTime": {
          "end_time": "2019-11-02T16:25:13.172096Z",
          "start_time": "2019-11-02T16:25:10.087056Z"
        },
        "scrolled": true,
        "id": "eehqF2MYOtQv",
        "colab_type": "code",
        "colab": {}
      },
      "source": [
        "cloud = ShapeNet(path=r'/content/drive/My Drive/MLinPL/Notebooks/ShapeNet/3chairs.npz')\n",
        "dataloader = DataLoader(cloud, batch_size=5000, shuffle=True)\n",
        "\n",
        "for i in range(cloud.cloud.shape[0] // 2048):\n",
        "    plot_points(cloud.cloud[2048*i:2048*(i+1)])"
      ],
      "execution_count": null,
      "outputs": []
    },
    {
      "cell_type": "code",
      "metadata": {
        "id": "PNrsLG42ddJw",
        "colab_type": "code",
        "colab": {}
      },
      "source": [
        "cloud.cloud.shape"
      ],
      "execution_count": null,
      "outputs": []
    },
    {
      "cell_type": "code",
      "metadata": {
        "ExecuteTime": {
          "end_time": "2019-11-02T16:25:13.179058Z",
          "start_time": "2019-11-02T16:25:13.173512Z"
        },
        "id": "OtF1fa0qOtQy",
        "colab_type": "code",
        "colab": {}
      },
      "source": [
        "n_epochs = 1000\n",
        "n_flows_F = 5\n",
        "l_rate = 1e-4\n",
        "emb_dim = cloud.cloud.shape[0] // 2048\n",
        "n_sample_points = 1000\n",
        "\n",
        "prior_z = distributions.MultivariateNormal(torch.zeros(3), torch.eye(3))"
      ],
      "execution_count": null,
      "outputs": []
    },
    {
      "cell_type": "code",
      "metadata": {
        "ExecuteTime": {
          "end_time": "2019-11-02T16:25:16.599581Z",
          "start_time": "2019-11-02T16:25:13.180662Z"
        },
        "code_folding": [],
        "id": "_J2lFTlzOtQ0",
        "colab_type": "code",
        "colab": {}
      },
      "source": [
        "F_flows = {}\n",
        "for n in range(n_flows_F):\n",
        "    for i in range(3):\n",
        "        F_flows['MNet' + str(n) + str(i)] = F_MulNet(emb_dim).to(device)\n",
        "        F_flows['MNet' + str(n) + str(i)].apply(init_weights)\n",
        "        F_flows['ANet' + str(n) + str(i)] = F_AddNet(emb_dim).to(device)\n",
        "        F_flows['ANet' + str(n) + str(i)].apply(init_weights)\n",
        "\n",
        "optimizer = optim(F_flows, l_rate)\n",
        "scheduler = torch.optim.lr_scheduler.StepLR(optimizer, step_size=100, gamma=0.8)"
      ],
      "execution_count": null,
      "outputs": []
    },
    {
      "cell_type": "code",
      "metadata": {
        "ExecuteTime": {
          "end_time": "2019-11-02T16:35:02.414564Z",
          "start_time": "2019-11-02T16:25:16.601732Z"
        },
        "scrolled": true,
        "id": "yi9pNKQuOtQ2",
        "colab_type": "code",
        "colab": {}
      },
      "source": [
        "for key in F_flows:\n",
        "    F_flows[key].train()\n",
        "\n",
        "for i in range(n_epochs):\n",
        "    loss_acc = 0\n",
        "    for j, (x, targets) in enumerate(dataloader):\n",
        "        x = (x.float() + 1e-4*torch.rand(x.shape)).to(device)\n",
        "        targets = targets.view(-1, 1).to(device)\n",
        "        emb = torch.zeros(x.shape[0], emb_dim).to(device)\n",
        "        emb.scatter_(1, targets, 1)\n",
        "\n",
        "        z, logdetJ = F_flow(x, emb, F_flows, n_flows_F)\n",
        "        \n",
        "        loss = loss_fun(z, logdetJ, prior_z)\n",
        "        loss_acc += loss.item()\n",
        "        \n",
        "        optimizer.zero_grad()\n",
        "        loss.backward()\n",
        "        optimizer.step()\n",
        "    scheduler.step()\n",
        "            \n",
        "    if i%50 == 0:\n",
        "        print('Epoch: {}/{} Loss: {:.4f}'.format(i+1, n_epochs, loss_acc / (j+1)))\n",
        "        with torch.no_grad():\n",
        "            for l in range(emb_dim):\n",
        "                z = torch.randn(2048, 3).to(device).float()\n",
        "                targets = torch.LongTensor(2048, 1).fill_(l).to(device)\n",
        "                emb = torch.zeros(2048, emb_dim).to(device)\n",
        "                emb.scatter_(1, targets, 1)\n",
        "                emb = emb.to(device)    \n",
        "                \n",
        "                z = F_inv_flow(z, emb, F_flows, n_flows_F)\n",
        "\n",
        "                plot_points(z.cpu().numpy())"
      ],
      "execution_count": null,
      "outputs": []
    },
    {
      "cell_type": "code",
      "metadata": {
        "ExecuteTime": {
          "end_time": "2019-11-02T16:38:21.975882Z",
          "start_time": "2019-11-02T16:38:09.087324Z"
        },
        "scrolled": true,
        "id": "dvFU3zDhOtQ4",
        "colab_type": "code",
        "colab": {}
      },
      "source": [
        "n_sample_points = 100000\n",
        "\n",
        "for key in F_flows:\n",
        "    F_flows[key].eval()\n",
        "\n",
        "with torch.no_grad():\n",
        "    for l in range(emb_dim):\n",
        "        z = torch.randn(n_sample_points,3).to(device).float()\n",
        "        targets = torch.LongTensor(n_sample_points, 1).fill_(l).to(device)\n",
        "        emb = torch.zeros(n_sample_points, emb_dim).to(device)\n",
        "        emb.scatter_(1, targets, 1)\n",
        "        emb = emb.to(device)    \n",
        "\n",
        "        z = F_inv_flow(z, emb, F_flows, n_flows_F)\n",
        "\n",
        "        plot_points(z.cpu().numpy(), alpha=0.05)"
      ],
      "execution_count": null,
      "outputs": []
    },
    {
      "cell_type": "code",
      "metadata": {
        "id": "e2PaIgNkOtQ6",
        "colab_type": "code",
        "colab": {}
      },
      "source": [
        ""
      ],
      "execution_count": null,
      "outputs": []
    }
  ]
}